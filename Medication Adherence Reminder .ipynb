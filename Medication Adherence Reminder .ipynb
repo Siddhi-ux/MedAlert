{
 "cells": [
  {
   "cell_type": "code",
   "execution_count": 1,
   "id": "d04fce3f",
   "metadata": {},
   "outputs": [],
   "source": [
    "import pandas as pd\n",
    "from sklearn.model_selection import train_test_split\n",
    "from sklearn.preprocessing import OneHotEncoder, StandardScaler"
   ]
  },
  {
   "cell_type": "code",
   "execution_count": 2,
   "id": "c0225980",
   "metadata": {},
   "outputs": [],
   "source": [
    "import pandas as pd\n",
    "import numpy as np\n",
    "from datetime import datetime, timedelta"
   ]
  },
  {
   "cell_type": "code",
   "execution_count": 3,
   "id": "58610cee",
   "metadata": {},
   "outputs": [],
   "source": [
    "num_samples = 100"
   ]
  },
  {
   "cell_type": "code",
   "execution_count": 24,
   "id": "bae49e98",
   "metadata": {},
   "outputs": [],
   "source": [
    "data = {\n",
    "    'patient_id': np.arange(num_patient_ids),\n",
    "    'gender': np.random.choice(['Male', 'Female'], num_patient_ids),\n",
    "    'medication_name': np.random.choice(['Medication A', 'Medication B', 'Medication C'], num_patient_ids),\n",
    "    'medication_type': np.random.choice(['Tablet', 'Capsule', 'Injection'], num_patient_ids),\n",
    "    'age': np.random.randint(18, 80, num_patient_ids),\n",
    "    'duration_of_medication': np.random.randint(1, 365, num_patient_ids),  # Duration in days\n",
    "    'adherence': np.random.choice([0, 1], num_patient_ids, p=[0.2, 0.8]),  # Assuming 80% adherence rate\n",
    "    'reminder_time': [datetime.now() + timedelta(minutes=np.random.randint(1, 1440)) for _ in range(num_patient_ids)]\n",
    "}"
   ]
  },
  {
   "cell_type": "code",
   "execution_count": 25,
   "id": "8065adda",
   "metadata": {},
   "outputs": [],
   "source": [
    "df = pd.DataFrame(data)"
   ]
  },
  {
   "cell_type": "code",
   "execution_count": 26,
   "id": "a791db7f",
   "metadata": {},
   "outputs": [
    {
     "name": "stdout",
     "output_type": "stream",
     "text": [
      "   patient_id  gender medication_name medication_type  age  \\\n",
      "0           0  Female    Medication A       Injection   69   \n",
      "1           1  Female    Medication A          Tablet   19   \n",
      "2           2    Male    Medication A         Capsule   21   \n",
      "3           3    Male    Medication C         Capsule   53   \n",
      "4           4    Male    Medication B          Tablet   60   \n",
      "\n",
      "   duration_of_medication  adherence              reminder_time  \n",
      "0                     113          1 2023-07-14 17:18:30.072978  \n",
      "1                     175          1 2023-07-14 10:38:30.072978  \n",
      "2                     172          1 2023-07-13 22:42:30.072978  \n",
      "3                     260          1 2023-07-14 02:20:30.072978  \n",
      "4                     234          0 2023-07-14 18:20:30.072978  \n"
     ]
    }
   ],
   "source": [
    "print(df.head())"
   ]
  },
  {
   "cell_type": "code",
   "execution_count": 27,
   "id": "d2359c13",
   "metadata": {},
   "outputs": [],
   "source": [
    "df.to_csv('medication_dataset.csv', index=False)"
   ]
  },
  {
   "cell_type": "code",
   "execution_count": 28,
   "id": "2b111905",
   "metadata": {},
   "outputs": [
    {
     "name": "stdout",
     "output_type": "stream",
     "text": [
      "Dataset saved as 'medication_dataset.csv'\n"
     ]
    }
   ],
   "source": [
    "print(\"Dataset saved as 'medication_dataset.csv'\")"
   ]
  },
  {
   "cell_type": "code",
   "execution_count": 30,
   "id": "b53d9eef",
   "metadata": {},
   "outputs": [],
   "source": [
    "data = pd.read_csv('medication_dataset.csv')\n"
   ]
  },
  {
   "cell_type": "code",
   "execution_count": 31,
   "id": "616c7473",
   "metadata": {},
   "outputs": [],
   "source": [
    "data.dropna(inplace=True) "
   ]
  },
  {
   "cell_type": "code",
   "execution_count": 32,
   "id": "d1001d2e",
   "metadata": {},
   "outputs": [],
   "source": [
    "categorical_cols = ['gender', 'medication_type']  # Assuming these are the categorical columns\n",
    "encoder = OneHotEncoder(sparse=False)\n",
    "encoded_cols = pd.DataFrame(encoder.fit_transform(data[categorical_cols]))\n",
    "data = pd.concat([data, encoded_cols], axis=1)\n",
    "data.drop(categorical_cols, axis=1, inplace=True)"
   ]
  },
  {
   "cell_type": "code",
   "execution_count": 33,
   "id": "92122253",
   "metadata": {},
   "outputs": [],
   "source": [
    "numerical_cols = ['age', 'duration_of_medication']  # Assuming these are the numerical columns\n",
    "scaler = StandardScaler()\n",
    "data[numerical_cols] = scaler.fit_transform(data[numerical_cols])"
   ]
  },
  {
   "cell_type": "code",
   "execution_count": 34,
   "id": "c749e64c",
   "metadata": {},
   "outputs": [],
   "source": [
    "X = data.drop('adherence', axis=1)  # Assuming 'adherence' is the target variable\n",
    "y = data['adherence']"
   ]
  },
  {
   "cell_type": "code",
   "execution_count": 35,
   "id": "8c9cf9e1",
   "metadata": {},
   "outputs": [],
   "source": [
    "X_train, X_test, y_train, y_test = train_test_split(X, y, test_size=0.2, random_state=42)"
   ]
  },
  {
   "cell_type": "code",
   "execution_count": 36,
   "id": "02289a5e",
   "metadata": {},
   "outputs": [],
   "source": [
    "#Feature Extraction"
   ]
  },
  {
   "cell_type": "code",
   "execution_count": 37,
   "id": "99f11ef1",
   "metadata": {},
   "outputs": [],
   "source": [
    "import pandas as pd\n",
    "from sklearn.preprocessing import LabelEncoder, StandardScaler\n",
    "from sklearn.feature_extraction.text import CountVectorizer"
   ]
  },
  {
   "cell_type": "code",
   "execution_count": 38,
   "id": "c99a77e1",
   "metadata": {},
   "outputs": [],
   "source": [
    "data = pd.read_csv('medication_dataset.csv')\n"
   ]
  },
  {
   "cell_type": "code",
   "execution_count": 39,
   "id": "601f9cf9",
   "metadata": {},
   "outputs": [],
   "source": [
    "encoder = LabelEncoder()\n",
    "data['gender_encoded'] = encoder.fit_transform(data['gender'])\n",
    "# Assuming 'medication_type' is a categorical variable that needs encoding\n",
    "data['medication_type_encoded'] = encoder.fit_transform(data['medication_type'])"
   ]
  },
  {
   "cell_type": "code",
   "execution_count": 40,
   "id": "e6e4bb2e",
   "metadata": {},
   "outputs": [],
   "source": [
    "vectorizer = CountVectorizer()\n",
    "medication_name_features = vectorizer.fit_transform(data['medication_name'])"
   ]
  },
  {
   "cell_type": "code",
   "execution_count": 41,
   "id": "0205cbab",
   "metadata": {},
   "outputs": [],
   "source": [
    "scaler = StandardScaler()\n",
    "numerical_features = ['age', 'duration_of_medication']\n",
    "data[numerical_features] = scaler.fit_transform(data[numerical_features])"
   ]
  },
  {
   "cell_type": "code",
   "execution_count": 42,
   "id": "6b2cef93",
   "metadata": {},
   "outputs": [],
   "source": [
    "selected_features = ['gender_encoded', 'medication_type_encoded', 'age', 'duration_of_medication']\n",
    "data = data[selected_features + ['adherence']]\n"
   ]
  },
  {
   "cell_type": "code",
   "execution_count": 43,
   "id": "979bb3ce",
   "metadata": {},
   "outputs": [
    {
     "name": "stdout",
     "output_type": "stream",
     "text": [
      "   gender_encoded  medication_type_encoded       age  duration_of_medication  \\\n",
      "0               0                        1  1.267056               -0.678982   \n",
      "1               0                        2 -1.649740               -0.129019   \n",
      "2               1                        0 -1.533068               -0.155630   \n",
      "3               1                        0  0.333681                0.624961   \n",
      "4               1                        2  0.742033                0.394332   \n",
      "\n",
      "   adherence  \n",
      "0          1  \n",
      "1          1  \n",
      "2          1  \n",
      "3          1  \n",
      "4          0  \n"
     ]
    }
   ],
   "source": [
    "print(data.head())"
   ]
  },
  {
   "cell_type": "code",
   "execution_count": 44,
   "id": "c9264292",
   "metadata": {},
   "outputs": [],
   "source": [
    "#Model Selection and Training"
   ]
  },
  {
   "cell_type": "code",
   "execution_count": 74,
   "id": "1041be70",
   "metadata": {},
   "outputs": [],
   "source": [
    "import pandas as pd\n",
    "from sklearn.model_selection import train_test_split\n",
    "from sklearn.linear_model import LogisticRegression\n",
    "from sklearn.metrics import accuracy_score\n",
    "from sklearn.preprocessing import OneHotEncoder"
   ]
  },
  {
   "cell_type": "code",
   "execution_count": 75,
   "id": "81bc716d",
   "metadata": {},
   "outputs": [],
   "source": [
    "data = pd.read_csv('medication_dataset.csv')"
   ]
  },
  {
   "cell_type": "code",
   "execution_count": 76,
   "id": "de68bd78",
   "metadata": {},
   "outputs": [],
   "source": [
    "data['reminder_time'] = pd.to_datetime(data['reminder_time'])"
   ]
  },
  {
   "cell_type": "code",
   "execution_count": 77,
   "id": "add6d27d",
   "metadata": {},
   "outputs": [],
   "source": [
    "data['hour_of_day'] = data['reminder_time'].dt.hour\n",
    "data['day_of_week'] = data['reminder_time'].dt.dayofweek"
   ]
  },
  {
   "cell_type": "code",
   "execution_count": 78,
   "id": "87cf4b5c",
   "metadata": {},
   "outputs": [],
   "source": [
    "data.drop('reminder_time', axis=1, inplace=True)"
   ]
  },
  {
   "cell_type": "code",
   "execution_count": 79,
   "id": "d76731f9",
   "metadata": {},
   "outputs": [],
   "source": [
    "categorical_cols = ['gender', 'medication_name', 'medication_type']\n",
    "data = pd.get_dummies(data, columns=categorical_cols)"
   ]
  },
  {
   "cell_type": "code",
   "execution_count": null,
   "id": "7a1a7b46",
   "metadata": {},
   "outputs": [],
   "source": []
  },
  {
   "cell_type": "code",
   "execution_count": 80,
   "id": "6dba0601",
   "metadata": {},
   "outputs": [],
   "source": [
    "X = data.drop('adherence', axis=1)\n",
    "y = data['adherence']"
   ]
  },
  {
   "cell_type": "code",
   "execution_count": 81,
   "id": "1c53d06d",
   "metadata": {},
   "outputs": [],
   "source": [
    "X_train, X_test, y_train, y_test = train_test_split(X, y, test_size=0.2, random_state=42)"
   ]
  },
  {
   "cell_type": "code",
   "execution_count": 82,
   "id": "111ac8cd",
   "metadata": {},
   "outputs": [],
   "source": [
    "model = LogisticRegression()"
   ]
  },
  {
   "cell_type": "code",
   "execution_count": 83,
   "id": "5eaecc09",
   "metadata": {},
   "outputs": [
    {
     "name": "stderr",
     "output_type": "stream",
     "text": [
      "C:\\python\\lib\\site-packages\\sklearn\\linear_model\\_logistic.py:444: ConvergenceWarning: lbfgs failed to converge (status=1):\n",
      "STOP: TOTAL NO. of ITERATIONS REACHED LIMIT.\n",
      "\n",
      "Increase the number of iterations (max_iter) or scale the data as shown in:\n",
      "    https://scikit-learn.org/stable/modules/preprocessing.html\n",
      "Please also refer to the documentation for alternative solver options:\n",
      "    https://scikit-learn.org/stable/modules/linear_model.html#logistic-regression\n",
      "  n_iter_i = _check_optimize_result(\n"
     ]
    },
    {
     "data": {
      "text/html": [
       "<style>#sk-container-id-1 {color: black;background-color: white;}#sk-container-id-1 pre{padding: 0;}#sk-container-id-1 div.sk-toggleable {background-color: white;}#sk-container-id-1 label.sk-toggleable__label {cursor: pointer;display: block;width: 100%;margin-bottom: 0;padding: 0.3em;box-sizing: border-box;text-align: center;}#sk-container-id-1 label.sk-toggleable__label-arrow:before {content: \"▸\";float: left;margin-right: 0.25em;color: #696969;}#sk-container-id-1 label.sk-toggleable__label-arrow:hover:before {color: black;}#sk-container-id-1 div.sk-estimator:hover label.sk-toggleable__label-arrow:before {color: black;}#sk-container-id-1 div.sk-toggleable__content {max-height: 0;max-width: 0;overflow: hidden;text-align: left;background-color: #f0f8ff;}#sk-container-id-1 div.sk-toggleable__content pre {margin: 0.2em;color: black;border-radius: 0.25em;background-color: #f0f8ff;}#sk-container-id-1 input.sk-toggleable__control:checked~div.sk-toggleable__content {max-height: 200px;max-width: 100%;overflow: auto;}#sk-container-id-1 input.sk-toggleable__control:checked~label.sk-toggleable__label-arrow:before {content: \"▾\";}#sk-container-id-1 div.sk-estimator input.sk-toggleable__control:checked~label.sk-toggleable__label {background-color: #d4ebff;}#sk-container-id-1 div.sk-label input.sk-toggleable__control:checked~label.sk-toggleable__label {background-color: #d4ebff;}#sk-container-id-1 input.sk-hidden--visually {border: 0;clip: rect(1px 1px 1px 1px);clip: rect(1px, 1px, 1px, 1px);height: 1px;margin: -1px;overflow: hidden;padding: 0;position: absolute;width: 1px;}#sk-container-id-1 div.sk-estimator {font-family: monospace;background-color: #f0f8ff;border: 1px dotted black;border-radius: 0.25em;box-sizing: border-box;margin-bottom: 0.5em;}#sk-container-id-1 div.sk-estimator:hover {background-color: #d4ebff;}#sk-container-id-1 div.sk-parallel-item::after {content: \"\";width: 100%;border-bottom: 1px solid gray;flex-grow: 1;}#sk-container-id-1 div.sk-label:hover label.sk-toggleable__label {background-color: #d4ebff;}#sk-container-id-1 div.sk-serial::before {content: \"\";position: absolute;border-left: 1px solid gray;box-sizing: border-box;top: 0;bottom: 0;left: 50%;z-index: 0;}#sk-container-id-1 div.sk-serial {display: flex;flex-direction: column;align-items: center;background-color: white;padding-right: 0.2em;padding-left: 0.2em;position: relative;}#sk-container-id-1 div.sk-item {position: relative;z-index: 1;}#sk-container-id-1 div.sk-parallel {display: flex;align-items: stretch;justify-content: center;background-color: white;position: relative;}#sk-container-id-1 div.sk-item::before, #sk-container-id-1 div.sk-parallel-item::before {content: \"\";position: absolute;border-left: 1px solid gray;box-sizing: border-box;top: 0;bottom: 0;left: 50%;z-index: -1;}#sk-container-id-1 div.sk-parallel-item {display: flex;flex-direction: column;z-index: 1;position: relative;background-color: white;}#sk-container-id-1 div.sk-parallel-item:first-child::after {align-self: flex-end;width: 50%;}#sk-container-id-1 div.sk-parallel-item:last-child::after {align-self: flex-start;width: 50%;}#sk-container-id-1 div.sk-parallel-item:only-child::after {width: 0;}#sk-container-id-1 div.sk-dashed-wrapped {border: 1px dashed gray;margin: 0 0.4em 0.5em 0.4em;box-sizing: border-box;padding-bottom: 0.4em;background-color: white;}#sk-container-id-1 div.sk-label label {font-family: monospace;font-weight: bold;display: inline-block;line-height: 1.2em;}#sk-container-id-1 div.sk-label-container {text-align: center;}#sk-container-id-1 div.sk-container {/* jupyter's `normalize.less` sets `[hidden] { display: none; }` but bootstrap.min.css set `[hidden] { display: none !important; }` so we also need the `!important` here to be able to override the default hidden behavior on the sphinx rendered scikit-learn.org. See: https://github.com/scikit-learn/scikit-learn/issues/21755 */display: inline-block !important;position: relative;}#sk-container-id-1 div.sk-text-repr-fallback {display: none;}</style><div id=\"sk-container-id-1\" class=\"sk-top-container\"><div class=\"sk-text-repr-fallback\"><pre>LogisticRegression()</pre><b>In a Jupyter environment, please rerun this cell to show the HTML representation or trust the notebook. <br />On GitHub, the HTML representation is unable to render, please try loading this page with nbviewer.org.</b></div><div class=\"sk-container\" hidden><div class=\"sk-item\"><div class=\"sk-estimator sk-toggleable\"><input class=\"sk-toggleable__control sk-hidden--visually\" id=\"sk-estimator-id-1\" type=\"checkbox\" checked><label for=\"sk-estimator-id-1\" class=\"sk-toggleable__label sk-toggleable__label-arrow\">LogisticRegression</label><div class=\"sk-toggleable__content\"><pre>LogisticRegression()</pre></div></div></div></div></div>"
      ],
      "text/plain": [
       "LogisticRegression()"
      ]
     },
     "execution_count": 83,
     "metadata": {},
     "output_type": "execute_result"
    }
   ],
   "source": [
    "model.fit(X_train, y_train)"
   ]
  },
  {
   "cell_type": "code",
   "execution_count": 84,
   "id": "4623cd9a",
   "metadata": {},
   "outputs": [],
   "source": [
    "y_pred = model.predict(X_test)"
   ]
  },
  {
   "cell_type": "code",
   "execution_count": 85,
   "id": "7577f2ce",
   "metadata": {},
   "outputs": [
    {
     "name": "stdout",
     "output_type": "stream",
     "text": [
      "Accuracy: 0.875\n"
     ]
    }
   ],
   "source": [
    "accuracy = accuracy_score(y_test, y_pred)\n",
    "print(\"Accuracy:\", accuracy)"
   ]
  },
  {
   "cell_type": "code",
   "execution_count": 86,
   "id": "d862cfb6",
   "metadata": {},
   "outputs": [
    {
     "name": "stdout",
     "output_type": "stream",
     "text": [
      "Accuracy: 87.50%\n"
     ]
    }
   ],
   "source": [
    "accuracy_percentage = accuracy * 100\n",
    "print(\"Accuracy: {:.2f}%\".format(accuracy_percentage))"
   ]
  },
  {
   "cell_type": "code",
   "execution_count": 87,
   "id": "c127f676",
   "metadata": {},
   "outputs": [],
   "source": [
    "import pandas as pd\n",
    "from sklearn.model_selection import train_test_split\n",
    "from sklearn.linear_model import LogisticRegression\n",
    "from sklearn.metrics import accuracy_score, precision_score, recall_score, f1_score, roc_auc_score"
   ]
  },
  {
   "cell_type": "code",
   "execution_count": 88,
   "id": "c2cb7616",
   "metadata": {},
   "outputs": [],
   "source": [
    "data = pd.read_csv('medication_dataset.csv')"
   ]
  },
  {
   "cell_type": "code",
   "execution_count": 90,
   "id": "926c3eb5",
   "metadata": {},
   "outputs": [],
   "source": [
    "accuracy = accuracy_score(y_test, y_pred)\n",
    "precision = precision_score(y_test, y_pred)\n",
    "recall = recall_score(y_test, y_pred)\n",
    "f1 = f1_score(y_test, y_pred)\n",
    "roc_auc = roc_auc_score(y_test, y_pred)"
   ]
  },
  {
   "cell_type": "code",
   "execution_count": 92,
   "id": "555d41fd",
   "metadata": {},
   "outputs": [
    {
     "name": "stdout",
     "output_type": "stream",
     "text": [
      "Accuracy: 87.5\n",
      "Precision: 92.10526315789474\n",
      "Recall: 94.5945945945946\n",
      "F1 Score: 93.33333333333333\n",
      "ROC AUC Score: 47.2972972972973\n"
     ]
    }
   ],
   "source": [
    "print(\"Accuracy:\", accuracy*100)\n",
    "print(\"Precision:\", precision*100)\n",
    "print(\"Recall:\", recall*100)\n",
    "print(\"F1 Score:\", f1*100)\n",
    "print(\"ROC AUC Score:\", roc_auc*100)"
   ]
  },
  {
   "cell_type": "code",
   "execution_count": 93,
   "id": "e8a6e907",
   "metadata": {},
   "outputs": [],
   "source": [
    "import pandas as pd\n",
    "import joblib\n"
   ]
  },
  {
   "cell_type": "code",
   "execution_count": 94,
   "id": "81267b8b",
   "metadata": {},
   "outputs": [],
   "source": [
    "data = pd.read_csv('medication_dataset.csv')"
   ]
  },
  {
   "cell_type": "code",
   "execution_count": 95,
   "id": "578c32e6",
   "metadata": {},
   "outputs": [],
   "source": [
    "X = data.drop('adherence', axis=1)\n",
    "y = data['adherence']"
   ]
  },
  {
   "cell_type": "code",
   "execution_count": 96,
   "id": "c0f61737",
   "metadata": {},
   "outputs": [],
   "source": [
    "model = LogisticRegression()"
   ]
  },
  {
   "cell_type": "code",
   "execution_count": 98,
   "id": "b58d1776",
   "metadata": {},
   "outputs": [
    {
     "name": "stdout",
     "output_type": "stream",
     "text": [
      "Model saved as 'medication_model.pkl'\n"
     ]
    }
   ],
   "source": [
    "joblib.dump(model, 'medication_model.pkl')\n",
    "print(\"Model saved as 'medication_model.pkl'\")"
   ]
  },
  {
   "cell_type": "code",
   "execution_count": null,
   "id": "71e3653c",
   "metadata": {},
   "outputs": [],
   "source": []
  }
 ],
 "metadata": {
  "kernelspec": {
   "display_name": "Python 3 (ipykernel)",
   "language": "python",
   "name": "python3"
  },
  "language_info": {
   "codemirror_mode": {
    "name": "ipython",
    "version": 3
   },
   "file_extension": ".py",
   "mimetype": "text/x-python",
   "name": "python",
   "nbconvert_exporter": "python",
   "pygments_lexer": "ipython3",
   "version": "3.10.0"
  }
 },
 "nbformat": 4,
 "nbformat_minor": 5
}
